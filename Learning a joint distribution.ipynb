{
 "cells": [
  {
   "cell_type": "code",
   "execution_count": 1,
   "metadata": {
    "collapsed": true
   },
   "outputs": [],
   "source": [
    "data = read.table(\"http://archive.ics.uci.edu/ml/machine-learning-databases/adult/adult.data\",\n",
    "        sep=\",\",header=F,col.names=c(\"age\", \"type_employer\", \"fnlwgt\", \"education\", \n",
    "                \"education_num\",\"marital\", \"occupation\", \"relationship\", \"race\",\"sex\",\n",
    "                \"capital_gain\", \"capital_loss\", \"hr_per_week\",\"country\", \"income\"),\n",
    "        fill=FALSE,strip.white=T)"
   ]
  },
  {
   "cell_type": "markdown",
   "metadata": {},
   "source": [
    "This Joint was obtained by learning from three attributes in the UCI “Adult” Census Database [Kohavi 1995]\n",
    "\n",
    "Gender, Hours worked, Rich/Poor\n",
    "\n",
    "$\\hat{P}$(row) = $\\frac{\\text{records matching row}}{\\text{total number of records}}$"
   ]
  },
  {
   "cell_type": "code",
   "execution_count": 2,
   "metadata": {
    "collapsed": false
   },
   "outputs": [],
   "source": [
    "joint_dist <- c(\n",
    "    # Female v0:40.5- poor\n",
    "    nrow(data[data$income == \"<=50K\" & data$sex == \"Female\" & data$hr_per_week < 40.5, ]) / nrow(data),\n",
    "    nrow(data[data$income == \">50K\" & data$sex == \"Female\" & data$hr_per_week < 40.5, ]) / nrow(data),\n",
    "    # Female v1:40.5+ rich\n",
    "    nrow(data[data$income == \"<=50K\" & data$sex == \"Female\" & data$hr_per_week >= 40.5, ]) / nrow(data),\n",
    "    nrow(data[data$income == \">50K\" & data$sex == \"Female\" & data$hr_per_week >= 40.5, ]) / nrow(data),\n",
    "    # Male v0:40.5- poor\n",
    "    nrow(data[data$income == \"<=50K\" & data$sex == \"Male\" & data$hr_per_week < 40.5, ]) / nrow(data),\n",
    "    nrow(data[data$income == \">50K\" & data$sex == \"Male\" & data$hr_per_week < 40.5, ]) / nrow(data),\n",
    "    # Male v1:40.5+ rich\n",
    "    nrow(data[data$income == \"<=50K\" & data$sex == \"Male\" & data$hr_per_week >= 40.5, ]) / nrow(data),\n",
    "    nrow(data[data$income == \">50K\" & data$sex == \"Male\" & data$hr_per_week >= 40.5, ]) / nrow(data))"
   ]
  },
  {
   "cell_type": "code",
   "execution_count": 3,
   "metadata": {
    "collapsed": false
   },
   "outputs": [],
   "source": [
    "gender <- c('Female', 'Male')"
   ]
  },
  {
   "cell_type": "code",
   "execution_count": 4,
   "metadata": {
    "collapsed": true
   },
   "outputs": [],
   "source": [
    "worked_hours <- c('v0:40.5-', 'v0:40.5-', 'v1:40.5+', 'v1:40.5+')"
   ]
  },
  {
   "cell_type": "code",
   "execution_count": 5,
   "metadata": {
    "collapsed": true
   },
   "outputs": [],
   "source": [
    "demographic <- c(\"<=50K\", \">50K\")"
   ]
  },
  {
   "cell_type": "code",
   "execution_count": 6,
   "metadata": {
    "collapsed": false
   },
   "outputs": [
    {
     "data": {
      "text/html": [
       "<table>\n",
       "<thead><tr><th scope=col>gender</th><th scope=col>demographic</th><th scope=col>worked_hours</th><th scope=col>joint_dist</th></tr></thead>\n",
       "<tbody>\n",
       "\t<tr><td>Female    </td><td>&lt;=50K  </td><td>v0:40.5-  </td><td>0.25244925</td></tr>\n",
       "\t<tr><td><span style=white-space:pre-wrap>Male  </span></td><td>&gt;50K                                       </td><td>v0:40.5-                                      </td><td>0.02484567                                    </td></tr>\n",
       "\t<tr><td>Female    </td><td>&lt;=50K  </td><td>v1:40.5+  </td><td>0.04213630</td></tr>\n",
       "\t<tr><td><span style=white-space:pre-wrap>Male  </span></td><td>&gt;50K                                       </td><td>v1:40.5+                                      </td><td>0.01136329                                    </td></tr>\n",
       "\t<tr><td>Female    </td><td>&lt;=50K  </td><td>v0:40.5-  </td><td>0.33091736</td></tr>\n",
       "\t<tr><td><span style=white-space:pre-wrap>Male  </span></td><td>&gt;50K                                       </td><td>v0:40.5-                                      </td><td>0.09754000                                    </td></tr>\n",
       "\t<tr><td>Female    </td><td>&lt;=50K  </td><td>v1:40.5+  </td><td>0.13368754</td></tr>\n",
       "\t<tr><td><span style=white-space:pre-wrap>Male  </span></td><td>&gt;50K                                       </td><td>v1:40.5+                                      </td><td>0.10706059                                    </td></tr>\n",
       "</tbody>\n",
       "</table>\n"
      ],
      "text/latex": [
       "\\begin{tabular}{r|llll}\n",
       " gender & demographic & worked\\_hours & joint\\_dist\\\\\n",
       "\\hline\n",
       "\t Female     & <=50K      & v0:40.5-   & 0.25244925\\\\\n",
       "\t Male       & >50K       & v0:40.5-   & 0.02484567\\\\\n",
       "\t Female     & <=50K      & v1:40.5+   & 0.04213630\\\\\n",
       "\t Male       & >50K       & v1:40.5+   & 0.01136329\\\\\n",
       "\t Female     & <=50K      & v0:40.5-   & 0.33091736\\\\\n",
       "\t Male       & >50K       & v0:40.5-   & 0.09754000\\\\\n",
       "\t Female     & <=50K      & v1:40.5+   & 0.13368754\\\\\n",
       "\t Male       & >50K       & v1:40.5+   & 0.10706059\\\\\n",
       "\\end{tabular}\n"
      ],
      "text/plain": [
       "  gender demographic worked_hours joint_dist\n",
       "1 Female <=50K       v0:40.5-     0.25244925\n",
       "2 Male   >50K        v0:40.5-     0.02484567\n",
       "3 Female <=50K       v1:40.5+     0.04213630\n",
       "4 Male   >50K        v1:40.5+     0.01136329\n",
       "5 Female <=50K       v0:40.5-     0.33091736\n",
       "6 Male   >50K        v0:40.5-     0.09754000\n",
       "7 Female <=50K       v1:40.5+     0.13368754\n",
       "8 Male   >50K        v1:40.5+     0.10706059"
      ]
     },
     "metadata": {},
     "output_type": "display_data"
    }
   ],
   "source": [
    "data.frame(gender,\n",
    "           demographic,\n",
    "           worked_hours,\n",
    "           joint_dist)"
   ]
  },
  {
   "cell_type": "code",
   "execution_count": null,
   "metadata": {
    "collapsed": true
   },
   "outputs": [],
   "source": []
  }
 ],
 "metadata": {
  "kernelspec": {
   "display_name": "R",
   "language": "R",
   "name": "ir"
  },
  "language_info": {
   "codemirror_mode": "r",
   "file_extension": ".r",
   "mimetype": "text/x-r-source",
   "name": "R",
   "pygments_lexer": "r",
   "version": "3.3.1"
  }
 },
 "nbformat": 4,
 "nbformat_minor": 1
}
